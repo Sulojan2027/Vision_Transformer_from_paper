{
  "cells": [
    {
      "cell_type": "code",
      "source": [
        "import tensorflow as tf\n",
        "from tensorflow.keras.datasets import cifar10\n",
        "from tensorflow.keras.callbacks import ReduceLROnPlateau, EarlyStopping\n",
        "from einops.layers.tensorflow import Rearrange\n",
        "import math\n",
        "\n",
        "import numpy as np\n",
        "import matplotlib.pyplot as plt\n"
      ],
      "metadata": {
        "id": "pXcwtKVtWeRj"
      },
      "id": "pXcwtKVtWeRj",
      "execution_count": 3,
      "outputs": []
    },
    {
      "cell_type": "code",
      "source": [
        "def gelu(x):\n",
        "    \"\"\"Smoothened Gaussian Error Linear Unit activation function.\n",
        "    args:\n",
        "        x: input tensor\n",
        "    returns:\n",
        "        output tensor after applying gelu\"\"\"\n",
        "    fn = 0.5 * x * (1.0 + tf.tanh(math.sqrt(2 / math.pi) * (x + 0.044715 * tf.pow(x, 3))))\n",
        "    return fn\n",
        "\n",
        "class PatchExtract(tf.keras.layers.Layer):\n",
        "    \"\"\"Extracts patches from the input image\"\"\"\n",
        "    def __init__(self, patch_size):\n",
        "        super().__init__()\n",
        "        self.patch_size = patch_size\n",
        "        self.rearrange = Rearrange('b (h p1) (w p2) c -> b (h w) (p1 p2 c)', p1=patch_size, p2=patch_size)\n",
        "\n",
        "    def call(self, img):\n",
        "        return self.rearrange(img)\n",
        "\n",
        "\n",
        "class Residual(tf.keras.layers.Layer):\n",
        "    \"\"\"Residual skip connection in Encoder\"\"\"\n",
        "    def __init__(self, func):\n",
        "        super().__init__()\n",
        "        self.func = func\n",
        "\n",
        "    def call(self, x):\n",
        "        return self.func(x) + x\n",
        "\n",
        "class PreNorm(tf.keras.layers.Layer):\n",
        "    \"\"\"Layer normalization before attention and MLP blocks\"\"\"\n",
        "    def __init__(self, dim, func):\n",
        "        super().__init__()\n",
        "        self.norm = tf.keras.layers.LayerNormalization(epsilon=1e-6)\n",
        "        self.func = func\n",
        "\n",
        "    def call(self, x):\n",
        "        return self.func(self.norm(x))\n",
        "\n",
        "class FeedForward(tf.keras.layers.Layer):\n",
        "    \"\"\"Feed forward MLP for transformer block\"\"\"\n",
        "    def __init__(self, dim, hidden_dim):\n",
        "        super().__init__()\n",
        "        self.ff = tf.keras.Sequential([\n",
        "            tf.keras.layers.Dense(hidden_dim, activation=tf.keras.activations.get(gelu)),\n",
        "            tf.keras.layers.Dense(dim)\n",
        "        ])\n",
        "\n",
        "    def call(self, x):\n",
        "        return self.ff(x)\n",
        "\n",
        "class Attention(tf.keras.layers.Layer):\n",
        "    \"\"\"Multi-head self attention layer\"\"\"\n",
        "    def __init__(self, dim, heads):\n",
        "        super().__init__()\n",
        "        self.heads = heads\n",
        "        self.scale = dim ** -0.5\n",
        "\n",
        "        self.to_qkv = tf.keras.layers.Dense(dim * 3, use_bias=False)\n",
        "        self.to_out = tf.keras.layers.Dense(dim)\n",
        "\n",
        "        self.rearrange_qkv = Rearrange('b n (qkv h d) -> qkv b h n d', qkv=3, h=self.heads)\n",
        "        self.rearrange_out = Rearrange('b h n d -> b n (h d)')\n",
        "\n",
        "    def call(self, x):\n",
        "        qkv = self.to_qkv(x)\n",
        "        qkv = self.rearrange_qkv(qkv)\n",
        "\n",
        "        q = qkv[0]\n",
        "        k = qkv[1]\n",
        "        v = qkv[2]\n",
        "\n",
        "        mul = tf.einsum('bhid,bhjd->bhij',q, k) * self.scale\n",
        "        attn = tf.nn.softmax(mul, axis=-1)\n",
        "\n",
        "        out = tf.einsum('bhij,bhjd->bhid', attn, v)\n",
        "        out = self.rearrange_out(out)\n",
        "        out = self.to_out(out)\n",
        "\n",
        "        return out\n",
        "\n",
        "class Transformer(tf.keras.Model):\n",
        "    \"\"\"Transformer block consisting of attention and MLP layers\"\"\"\n",
        "\n",
        "    def __init__(self, dim, depth, heads, mlp_dim):\n",
        "        super().__init__()\n",
        "        layers = []\n",
        "        for _ in range(depth):\n",
        "            layers.extend([\n",
        "                Residual(PreNorm(dim, Attention(dim, heads = heads))),\n",
        "                Residual(PreNorm(dim, FeedForward(dim, mlp_dim)))\n",
        "            ])\n",
        "        self.net = tf.keras.Sequential(layers)\n",
        "\n",
        "    def call(self, x):\n",
        "        return self.net(x)\n",
        "\n",
        "\n",
        "class ViT(tf.keras.Model):\n",
        "    \"\"\"Vision Transformer model\"\"\"\n",
        "\n",
        "    def __init__(self, *, image_size, patch_size, num_classes, dim, depth, heads, mlp_dim, channels=3):\n",
        "        super().__init__()\n",
        "        assert image_size % patch_size == 0, 'image dimensions must be divisible by the patch size'\n",
        "        num_patches = (image_size // patch_size) ** 2\n",
        "        patch_dim = channels * patch_size ** 2\n",
        "\n",
        "        self.patch_size = patch_size\n",
        "        self.dim = dim\n",
        "\n",
        "        self.patch_extractor = PatchExtract(patch_size)\n",
        "        self.patch_to_embedding = tf.keras.layers.Dense(dim)\n",
        "\n",
        "        self.cls_token = self.add_weight(\n",
        "            name='cls_token',\n",
        "            shape=(1, 1, dim),\n",
        "            initializer=tf.keras.initializers.RandomNormal(),\n",
        "            dtype=tf.float32\n",
        "            )\n",
        "\n",
        "        self.pos_embedding = self.add_weight(\n",
        "            name='pos_embedding',\n",
        "            shape=(num_patches + 1, dim),\n",
        "            initializer=tf.keras.initializers.RandomNormal(),\n",
        "            dtype=tf.float32\n",
        "            )\n",
        "\n",
        "        self.transformer = Transformer(dim, depth, heads, mlp_dim)\n",
        "\n",
        "        self.to_cls_token = tf.keras.layers.Identity()\n",
        "\n",
        "        self.mlp_head = tf.keras.Sequential([\n",
        "            tf.keras.layers.Dense(mlp_dim, activation=tf.keras.activations.get(gelu)),\n",
        "            tf.keras.layers.Dense(num_classes)\n",
        "        ])\n",
        "\n",
        "    def call(self, img):\n",
        "        b = tf.shape(img)[0]\n",
        "        x = self.patch_extractor(img)\n",
        "        x = self.patch_to_embedding(x)\n",
        "\n",
        "\n",
        "        cls_tokens = tf.broadcast_to(self.cls_token, [b, 1, self.dim])\n",
        "        x = tf.concat([cls_tokens, x], axis=1)\n",
        "        x += self.pos_embedding\n",
        "\n",
        "        x = self.transformer(x)\n",
        "        x = self.to_cls_token(x[:, 0])\n",
        "        return self.mlp_head(x)\n",
        ""
      ],
      "metadata": {
        "id": "ngbHSgyxWtA3"
      },
      "id": "ngbHSgyxWtA3",
      "execution_count": 4,
      "outputs": []
    },
    {
      "cell_type": "code",
      "source": [
        "# Load CIFAR-10\n",
        "\n",
        "(x_train, y_train), (x_test, y_test) = cifar10.load_data()\n",
        "x_train = x_train.astype('float32') / 255.0\n",
        "x_test = x_test.astype('float32') / 255.0\n",
        "y_train = y_train.flatten()\n",
        "y_test = y_test.flatten()\n",
        "\n",
        "BATCH_SIZE = 64\n",
        "train_dataset = tf.data.Dataset.from_tensor_slices((x_train, y_train))\n",
        "train_dataset = train_dataset.shuffle(1024).batch(BATCH_SIZE)\n",
        "test_dataset = tf.data.Dataset.from_tensor_slices((x_test, y_test))\n",
        "test_dataset = test_dataset.batch(BATCH_SIZE)"
      ],
      "metadata": {
        "colab": {
          "base_uri": "https://localhost:8080/"
        },
        "id": "tpDnYvVIWwem",
        "outputId": "4a543a63-323b-4370-8a98-124fb07d563b"
      },
      "id": "tpDnYvVIWwem",
      "execution_count": 5,
      "outputs": [
        {
          "output_type": "stream",
          "name": "stdout",
          "text": [
            "Downloading data from https://www.cs.toronto.edu/~kriz/cifar-10-python.tar.gz\n",
            "\u001b[1m170498071/170498071\u001b[0m \u001b[32m━━━━━━━━━━━━━━━━━━━━\u001b[0m\u001b[37m\u001b[0m \u001b[1m14s\u001b[0m 0us/step\n"
          ]
        }
      ]
    },
    {
      "cell_type": "code",
      "source": [
        "lr = ReduceLROnPlateau(\n",
        "    monitor='val_accuracy',\n",
        "    factor=0.5,\n",
        "    patience=10,\n",
        "    min_lr=1e-5,\n",
        "    verbose=1\n",
        ")\n",
        "\n",
        "es = EarlyStopping(\n",
        "    monitor='val_accuracy',\n",
        "    patience=10,\n",
        "    verbose=1,\n",
        "    restore_best_weights=True,\n",
        ")"
      ],
      "metadata": {
        "id": "rHSPYJG9Ze87"
      },
      "id": "rHSPYJG9Ze87",
      "execution_count": 6,
      "outputs": []
    },
    {
      "cell_type": "code",
      "source": [
        "# ViT Configuration\n",
        "vit_config = dict(\n",
        "    image_size=32,\n",
        "    patch_size=4,\n",
        "    num_classes=10,\n",
        "    dim=64,\n",
        "    depth=6,\n",
        "    heads=8,\n",
        "    mlp_dim=128,\n",
        ")\n",
        "\n",
        "model = ViT(**vit_config)"
      ],
      "metadata": {
        "id": "zoUxHwL4W1F3"
      },
      "id": "zoUxHwL4W1F3",
      "execution_count": 7,
      "outputs": []
    },
    {
      "cell_type": "code",
      "source": [
        "model.compile(\n",
        "    optimizer=tf.keras.optimizers.Adam(learning_rate=1e-3),\n",
        "    loss=tf.keras.losses.SparseCategoricalCrossentropy(from_logits=True),\n",
        "    metrics=['accuracy']\n",
        ")\n",
        "\n",
        "history = model.fit(\n",
        "    train_dataset,\n",
        "    validation_data=test_dataset,\n",
        "    epochs=100,\n",
        "    callbacks=[es, lr]\n",
        ")"
      ],
      "metadata": {
        "colab": {
          "base_uri": "https://localhost:8080/"
        },
        "id": "aocURZ4wXUWf",
        "outputId": "e5818420-31d7-4edb-b674-53e40b756de2"
      },
      "id": "aocURZ4wXUWf",
      "execution_count": 8,
      "outputs": [
        {
          "output_type": "stream",
          "name": "stdout",
          "text": [
            "Epoch 1/100\n",
            "\u001b[1m782/782\u001b[0m \u001b[32m━━━━━━━━━━━━━━━━━━━━\u001b[0m\u001b[37m\u001b[0m \u001b[1m43s\u001b[0m 28ms/step - accuracy: 0.2508 - loss: 2.0365 - val_accuracy: 0.4495 - val_loss: 1.5138 - learning_rate: 0.0010\n",
            "Epoch 2/100\n",
            "\u001b[1m782/782\u001b[0m \u001b[32m━━━━━━━━━━━━━━━━━━━━\u001b[0m\u001b[37m\u001b[0m \u001b[1m13s\u001b[0m 16ms/step - accuracy: 0.4917 - loss: 1.3962 - val_accuracy: 0.5296 - val_loss: 1.2998 - learning_rate: 0.0010\n",
            "Epoch 3/100\n",
            "\u001b[1m782/782\u001b[0m \u001b[32m━━━━━━━━━━━━━━━━━━━━\u001b[0m\u001b[37m\u001b[0m \u001b[1m11s\u001b[0m 14ms/step - accuracy: 0.5448 - loss: 1.2596 - val_accuracy: 0.5493 - val_loss: 1.2406 - learning_rate: 0.0010\n",
            "Epoch 4/100\n",
            "\u001b[1m782/782\u001b[0m \u001b[32m━━━━━━━━━━━━━━━━━━━━\u001b[0m\u001b[37m\u001b[0m \u001b[1m11s\u001b[0m 14ms/step - accuracy: 0.5733 - loss: 1.1887 - val_accuracy: 0.5506 - val_loss: 1.2587 - learning_rate: 0.0010\n",
            "Epoch 5/100\n",
            "\u001b[1m782/782\u001b[0m \u001b[32m━━━━━━━━━━━━━━━━━━━━\u001b[0m\u001b[37m\u001b[0m \u001b[1m21s\u001b[0m 15ms/step - accuracy: 0.5945 - loss: 1.1170 - val_accuracy: 0.5758 - val_loss: 1.1838 - learning_rate: 0.0010\n",
            "Epoch 6/100\n",
            "\u001b[1m782/782\u001b[0m \u001b[32m━━━━━━━━━━━━━━━━━━━━\u001b[0m\u001b[37m\u001b[0m \u001b[1m11s\u001b[0m 14ms/step - accuracy: 0.6157 - loss: 1.0723 - val_accuracy: 0.5908 - val_loss: 1.1454 - learning_rate: 0.0010\n",
            "Epoch 7/100\n",
            "\u001b[1m782/782\u001b[0m \u001b[32m━━━━━━━━━━━━━━━━━━━━\u001b[0m\u001b[37m\u001b[0m \u001b[1m11s\u001b[0m 15ms/step - accuracy: 0.6324 - loss: 1.0221 - val_accuracy: 0.5909 - val_loss: 1.1667 - learning_rate: 0.0010\n",
            "Epoch 8/100\n",
            "\u001b[1m782/782\u001b[0m \u001b[32m━━━━━━━━━━━━━━━━━━━━\u001b[0m\u001b[37m\u001b[0m \u001b[1m11s\u001b[0m 15ms/step - accuracy: 0.6458 - loss: 0.9831 - val_accuracy: 0.5887 - val_loss: 1.1621 - learning_rate: 0.0010\n",
            "Epoch 9/100\n",
            "\u001b[1m782/782\u001b[0m \u001b[32m━━━━━━━━━━━━━━━━━━━━\u001b[0m\u001b[37m\u001b[0m \u001b[1m11s\u001b[0m 14ms/step - accuracy: 0.6630 - loss: 0.9402 - val_accuracy: 0.6024 - val_loss: 1.1328 - learning_rate: 0.0010\n",
            "Epoch 10/100\n",
            "\u001b[1m782/782\u001b[0m \u001b[32m━━━━━━━━━━━━━━━━━━━━\u001b[0m\u001b[37m\u001b[0m \u001b[1m11s\u001b[0m 15ms/step - accuracy: 0.6719 - loss: 0.9009 - val_accuracy: 0.6047 - val_loss: 1.1444 - learning_rate: 0.0010\n",
            "Epoch 11/100\n",
            "\u001b[1m782/782\u001b[0m \u001b[32m━━━━━━━━━━━━━━━━━━━━\u001b[0m\u001b[37m\u001b[0m \u001b[1m20s\u001b[0m 14ms/step - accuracy: 0.6869 - loss: 0.8590 - val_accuracy: 0.6099 - val_loss: 1.1760 - learning_rate: 0.0010\n",
            "Epoch 12/100\n",
            "\u001b[1m782/782\u001b[0m \u001b[32m━━━━━━━━━━━━━━━━━━━━\u001b[0m\u001b[37m\u001b[0m \u001b[1m11s\u001b[0m 14ms/step - accuracy: 0.7000 - loss: 0.8172 - val_accuracy: 0.5976 - val_loss: 1.2324 - learning_rate: 0.0010\n",
            "Epoch 13/100\n",
            "\u001b[1m782/782\u001b[0m \u001b[32m━━━━━━━━━━━━━━━━━━━━\u001b[0m\u001b[37m\u001b[0m \u001b[1m11s\u001b[0m 14ms/step - accuracy: 0.7159 - loss: 0.7795 - val_accuracy: 0.6032 - val_loss: 1.2350 - learning_rate: 0.0010\n",
            "Epoch 14/100\n",
            "\u001b[1m782/782\u001b[0m \u001b[32m━━━━━━━━━━━━━━━━━━━━\u001b[0m\u001b[37m\u001b[0m \u001b[1m11s\u001b[0m 14ms/step - accuracy: 0.7301 - loss: 0.7383 - val_accuracy: 0.6052 - val_loss: 1.2540 - learning_rate: 0.0010\n",
            "Epoch 15/100\n",
            "\u001b[1m782/782\u001b[0m \u001b[32m━━━━━━━━━━━━━━━━━━━━\u001b[0m\u001b[37m\u001b[0m \u001b[1m20s\u001b[0m 14ms/step - accuracy: 0.7417 - loss: 0.7021 - val_accuracy: 0.5999 - val_loss: 1.3140 - learning_rate: 0.0010\n",
            "Epoch 16/100\n",
            "\u001b[1m782/782\u001b[0m \u001b[32m━━━━━━━━━━━━━━━━━━━━\u001b[0m\u001b[37m\u001b[0m \u001b[1m11s\u001b[0m 14ms/step - accuracy: 0.7529 - loss: 0.6728 - val_accuracy: 0.5921 - val_loss: 1.3609 - learning_rate: 0.0010\n",
            "Epoch 17/100\n",
            "\u001b[1m782/782\u001b[0m \u001b[32m━━━━━━━━━━━━━━━━━━━━\u001b[0m\u001b[37m\u001b[0m \u001b[1m11s\u001b[0m 14ms/step - accuracy: 0.7717 - loss: 0.6288 - val_accuracy: 0.5956 - val_loss: 1.3650 - learning_rate: 0.0010\n",
            "Epoch 18/100\n",
            "\u001b[1m782/782\u001b[0m \u001b[32m━━━━━━━━━━━━━━━━━━━━\u001b[0m\u001b[37m\u001b[0m \u001b[1m11s\u001b[0m 14ms/step - accuracy: 0.7816 - loss: 0.5943 - val_accuracy: 0.5875 - val_loss: 1.4716 - learning_rate: 0.0010\n",
            "Epoch 19/100\n",
            "\u001b[1m782/782\u001b[0m \u001b[32m━━━━━━━━━━━━━━━━━━━━\u001b[0m\u001b[37m\u001b[0m \u001b[1m11s\u001b[0m 14ms/step - accuracy: 0.7915 - loss: 0.5727 - val_accuracy: 0.5936 - val_loss: 1.4944 - learning_rate: 0.0010\n",
            "Epoch 20/100\n",
            "\u001b[1m782/782\u001b[0m \u001b[32m━━━━━━━━━━━━━━━━━━━━\u001b[0m\u001b[37m\u001b[0m \u001b[1m11s\u001b[0m 14ms/step - accuracy: 0.8044 - loss: 0.5366 - val_accuracy: 0.5931 - val_loss: 1.5694 - learning_rate: 0.0010\n",
            "Epoch 21/100\n",
            "\u001b[1m778/782\u001b[0m \u001b[32m━━━━━━━━━━━━━━━━━━━\u001b[0m\u001b[37m━\u001b[0m \u001b[1m0s\u001b[0m 13ms/step - accuracy: 0.8173 - loss: 0.5046\n",
            "Epoch 21: ReduceLROnPlateau reducing learning rate to 0.0005000000237487257.\n",
            "\u001b[1m782/782\u001b[0m \u001b[32m━━━━━━━━━━━━━━━━━━━━\u001b[0m\u001b[37m\u001b[0m \u001b[1m11s\u001b[0m 14ms/step - accuracy: 0.8173 - loss: 0.5045 - val_accuracy: 0.5875 - val_loss: 1.6351 - learning_rate: 0.0010\n",
            "Epoch 21: early stopping\n",
            "Restoring model weights from the end of the best epoch: 11.\n"
          ]
        }
      ]
    },
    {
      "cell_type": "code",
      "source": [
        "# Plot training & validation accuracy, loss values\n",
        "history = model.history.history\n",
        "\n",
        "fig, (ax1, ax2) = plt.subplots(1, 2, figsize=(12, 4))\n",
        "\n",
        "# Plot training & validation accuracy values\n",
        "ax1.plot(history['accuracy'], label='Training Accuracy')\n",
        "ax1.plot(history['val_accuracy'], label='Validation Accuracy')\n",
        "ax1.set_title('Model Accuracy')\n",
        "ax1.set_ylabel('Accuracy')\n",
        "ax1.set_xlabel('Epoch')\n",
        "ax1.legend()\n",
        "\n",
        "# Plot training & validation loss values\n",
        "ax2.plot(history['loss'], label='Training Loss')\n",
        "ax2.plot(history['val_loss'], label='Validation Loss')\n",
        "ax2.set_title('Model Loss')\n",
        "ax2.set_ylabel('Loss')\n",
        "ax2.set_xlabel('Epoch')\n",
        "ax2.legend()\n",
        "\n",
        "plt.tight_layout()\n",
        "plt.show()"
      ],
      "metadata": {
        "colab": {
          "base_uri": "https://localhost:8080/",
          "height": 407
        },
        "id": "QGkmcywkXVpC",
        "outputId": "b14fc37e-0438-4295-d5c7-8b1d7089f455"
      },
      "id": "QGkmcywkXVpC",
      "execution_count": 9,
      "outputs": [
        {
          "output_type": "display_data",
          "data": {
            "text/plain": [
              "<Figure size 1200x400 with 2 Axes>"
            ],
            "image/png": "[encoded data removed]"
          },
          "metadata": {}
        }
      ]
    },
    {
      "cell_type": "code",
      "source": [
        "val_acc = model.history.history['val_accuracy']\n",
        "train_acc = model.history.history['accuracy']\n",
        "\n",
        "best_epoch = int(tf.argmax(val_acc))\n",
        "best_val_acc = val_acc[best_epoch]\n",
        "best_train_acc = train_acc[best_epoch]\n",
        "\n",
        "print(f\"Best Epoch: {best_epoch + 1}\")\n",
        "print(f\"Best Val Accuracy: {best_val_acc * 100:.2f}%\")\n",
        "print(f\"Train Accuracy at that epoch: {best_train_acc * 100:.2f}%\")"
      ],
      "metadata": {
        "colab": {
          "base_uri": "https://localhost:8080/"
        },
        "id": "urQwS-PReSec",
        "outputId": "4918d6ed-8a7a-4047-d0de-f406e6b7aa73"
      },
      "id": "urQwS-PReSec",
      "execution_count": 10,
      "outputs": [
        {
          "output_type": "stream",
          "name": "stdout",
          "text": [
            "Best Epoch: 11\n",
            "Best Val Accuracy: 60.99%\n",
            "Train Accuracy at that epoch: 68.93%\n"
          ]
        }
      ]
    }
  ],
  "metadata": {
    "kernelspec": {
      "display_name": "Python 3",
      "name": "python3"
    },
    "language_info": {
      "codemirror_mode": {
        "name": "ipython",
        "version": 3
      },
      "file_extension": ".py",
      "mimetype": "text/x-python",
      "name": "python",
      "nbconvert_exporter": "python",
      "pygments_lexer": "ipython3",
      "version": "3.8.18"
    },
    "colab": {
      "provenance": [],
      "gpuType": "T4"
    },
    "accelerator": "GPU"
  },
  "nbformat": 4,
  "nbformat_minor": 5
}