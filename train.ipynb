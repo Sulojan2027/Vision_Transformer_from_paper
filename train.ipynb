{
 "cells": [
  {
   "cell_type": "code",
   "execution_count": 1,
   "id": "9f0d1ad3",
   "metadata": {},
   "outputs": [],
   "source": [
    "import tensorflow as tf\n",
    "from tensorflow.keras import datasets\n",
    "\n",
    "from model import ViT\n",
    "from train_config import TrainerConfig, Trainer"
   ]
  },
  {
   "cell_type": "code",
   "execution_count": 2,
   "metadata": {},
   "outputs": [],
   "source": [
    "(x_train, y_train), (x_test, y_test) = datasets.cifar10.load_data()"
   ]
  },
  {
   "cell_type": "code",
   "execution_count": 3,
   "id": "f51e5685",
   "metadata": {},
   "outputs": [],
   "source": [
    "train_images = tf.cast(x_train.reshape(-1, 32, 32, 3), tf.float32) / 255.0\n",
    "test_images = tf.cast(x_test.reshape(-1, 32, 32, 3), tf.float32) / 255.0"
   ]
  },
  {
   "cell_type": "code",
   "execution_count": 4,
   "id": "18ea2a22",
   "metadata": {},
   "outputs": [],
   "source": [
    "train_x = tf.data.Dataset.from_tensor_slices(train_images)\n",
    "train_y = tf.data.Dataset.from_tensor_slices(y_train)\n",
    "train_dataset = tf.data.Dataset.zip((train_x, train_y)).shuffle(50000)\n",
    "\n",
    "test_x = tf.data.Dataset.from_tensor_slices(test_images)\n",
    "test_y = tf.data.Dataset.from_tensor_slices(y_test)\n",
    "test_dataset = tf.data.Dataset.zip((test_x, test_y))"
   ]
  },
  {
   "cell_type": "code",
   "execution_count": 5,
   "id": "f361831d",
   "metadata": {},
   "outputs": [],
   "source": [
    "train_config = TrainerConfig(max_epochs=10, batch_size=128, learning_rate=1e-3)\n",
    "\n",
    "model_config = {\n",
    "    \"image_size\":32,\n",
    "    \"patch_size\":4,\n",
    "    \"num_classes\":10,\n",
    "    \"dim\":64,\n",
    "    \"depth\":3,\n",
    "    \"heads\":4,\n",
    "    \"mlp_dim\":128\n",
    "}"
   ]
  },
  {
   "cell_type": "code",
   "execution_count": 6,
   "id": "6c73dd5d",
   "metadata": {},
   "outputs": [],
   "source": [
    "trainer = Trainer(\n",
    "    ViT,\n",
    "    model_config,\n",
    "    train_dataset,\n",
    "    len(train_images),\n",
    "    test_dataset,\n",
    "    len(test_images),\n",
    "    train_config\n",
    ")"
   ]
  },
  {
   "cell_type": "code",
   "execution_count": 7,
   "id": "f097f3cd",
   "metadata": {},
   "outputs": [
    {
     "data": {
      "text/html": [
       "\n",
       "<style>\n",
       "    /* Turns off some styling */\n",
       "    progress {\n",
       "        /* gets rid of default border in Firefox and Opera. */\n",
       "        border: none;\n",
       "        /* Needs to be in here for Safari polyfill so background images work as expected. */\n",
       "        background-size: auto;\n",
       "    }\n",
       "    progress:not([value]), progress:not([value])::-webkit-progress-bar {\n",
       "        background: repeating-linear-gradient(45deg, #7e7e7e, #7e7e7e 10px, #5c5c5c 10px, #5c5c5c 20px);\n",
       "    }\n",
       "    .progress-bar-interrupted, .progress-bar-interrupted::-webkit-progress-bar {\n",
       "        background: #F44336;\n",
       "    }\n",
       "</style>\n"
      ],
      "text/plain": [
       "<IPython.core.display.HTML object>"
      ]
     },
     "metadata": {},
     "output_type": "display_data"
    },
    {
     "data": {
      "text/html": [],
      "text/plain": [
       "<IPython.core.display.HTML object>"
      ]
     },
     "metadata": {},
     "output_type": "display_data"
    },
    {
     "name": "stdout",
     "output_type": "stream",
     "text": [
      "epoch 1: train loss 2.19346. train accuracy 0.25130\n",
      "epoch 1: test loss 2.10025. test accuracy 0.33000\n",
      "epoch 2: train loss 2.12030. train accuracy 0.33092\n",
      "epoch 2: test loss 2.06970. test accuracy 0.36050\n",
      "epoch 3: train loss 2.06793. train accuracy 0.38444\n",
      "epoch 3: test loss 2.01803. test accuracy 0.41440\n",
      "epoch 4: train loss 2.03636. train accuracy 0.41598\n",
      "epoch 4: test loss 1.98865. test accuracy 0.44430\n",
      "epoch 5: train loss 2.00910. train accuracy 0.44458\n",
      "epoch 5: test loss 1.99753. test accuracy 0.43560\n",
      "epoch 6: train loss 1.99210. train accuracy 0.46246\n",
      "epoch 6: test loss 1.96426. test accuracy 0.47010\n",
      "epoch 7: train loss 1.98623. train accuracy 0.46832\n",
      "epoch 7: test loss 1.96036. test accuracy 0.47430\n",
      "epoch 8: train loss 1.97644. train accuracy 0.47846\n",
      "epoch 8: test loss 1.96823. test accuracy 0.46700\n",
      "epoch 9: train loss 1.95811. train accuracy 0.49702\n",
      "epoch 9: test loss 1.93989. test accuracy 0.49540\n",
      "epoch 10: train loss 1.95162. train accuracy 0.50340\n",
      "epoch 10: test loss 1.93902. test accuracy 0.49630\n"
     ]
    }
   ],
   "source": [
    "trainer.train()"
   ]
  },
  {
   "cell_type": "code",
   "execution_count": null,
   "id": "8d338979",
   "metadata": {},
   "outputs": [],
   "source": []
  }
 ],
 "metadata": {
  "kernelspec": {
   "display_name": "deep",
   "language": "python",
   "name": "python3"
  },
  "language_info": {
   "codemirror_mode": {
    "name": "ipython",
    "version": 3
   },
   "file_extension": ".py",
   "mimetype": "text/x-python",
   "name": "python",
   "nbconvert_exporter": "python",
   "pygments_lexer": "ipython3",
   "version": "3.8.18"
  }
 },
 "nbformat": 4,
 "nbformat_minor": 5
}
